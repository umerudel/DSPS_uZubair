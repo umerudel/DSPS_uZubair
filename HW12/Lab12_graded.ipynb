{
 "cells": [
  {
   "cell_type": "markdown",
   "metadata": {
    "colab_type": "text",
    "id": "view-in-github"
   },
   "source": [
    "<a href=\"https://colab.research.google.com/github/fedhere/DSPS/blob/master/HW12/KerasTensorflow.ipynb\" target=\"_parent\"><img src=\"https://colab.research.google.com/assets/colab-badge.svg\" alt=\"Open In Colab\"/></a>"
   ]
  },
  {
   "cell_type": "code",
   "execution_count": 1,
   "metadata": {
    "colab": {},
    "colab_type": "code",
    "id": "h4wdLvffnWBg"
   },
   "outputs": [],
   "source": [
    "import tensorflow as tf"
   ]
  },
  {
   "cell_type": "code",
   "execution_count": 2,
   "metadata": {
    "colab": {},
    "colab_type": "code",
    "id": "wIhsN_yinZdv"
   },
   "outputs": [],
   "source": [
    "from tensorflow import keras\n",
    "import pylab as pl\n",
    "import numpy as np\n",
    "np.random.seed(123)"
   ]
  },
  {
   "cell_type": "markdown",
   "metadata": {
    "colab_type": "text",
    "id": "2JOcJIRf9t-s"
   },
   "source": [
    "# 1 Getting the data: standard handwritten digit recognition task"
   ]
  },
  {
   "cell_type": "code",
   "execution_count": 3,
   "metadata": {
    "colab": {
     "base_uri": "https://localhost:8080/",
     "height": 62
    },
    "colab_type": "code",
    "id": "lN5a2wjjnb0q",
    "outputId": "a102a1c7-4f60-402b-a06b-d78cd3e4b81a"
   },
   "outputs": [],
   "source": [
    "(train_input, train_labels), (test_input, test_labels) = keras.datasets.mnist.load_data()"
   ]
  },
  {
   "cell_type": "code",
   "execution_count": 4,
   "metadata": {},
   "outputs": [
    {
     "data": {
      "text/plain": [
       "array([5, 0, 4, ..., 5, 6, 8], dtype=uint8)"
      ]
     },
     "execution_count": 4,
     "metadata": {},
     "output_type": "execute_result"
    }
   ],
   "source": [
    "train_labels"
   ]
  },
  {
   "cell_type": "markdown",
   "metadata": {
    "colab_type": "text",
    "id": "z3S03Rda91vM"
   },
   "source": [
    "# 2 understand the input data\n",
    "\n",
    "# task 1: print the shape of the train input and train labels"
   ]
  },
  {
   "cell_type": "code",
   "execution_count": 5,
   "metadata": {},
   "outputs": [
    {
     "data": {
      "text/plain": [
       "(60000, 28, 28)"
      ]
     },
     "execution_count": 5,
     "metadata": {},
     "output_type": "execute_result"
    }
   ],
   "source": [
    "train_input.shape"
   ]
  },
  {
   "cell_type": "code",
   "execution_count": 6,
   "metadata": {},
   "outputs": [
    {
     "data": {
      "text/plain": [
       "(60000,)"
      ]
     },
     "execution_count": 6,
     "metadata": {},
     "output_type": "execute_result"
    }
   ],
   "source": [
    "train_labels.shape"
   ]
  },
  {
   "cell_type": "markdown",
   "metadata": {},
   "source": [
    "# task 2: print the label of the 10th observation"
   ]
  },
  {
   "cell_type": "code",
   "execution_count": 7,
   "metadata": {},
   "outputs": [
    {
     "data": {
      "text/plain": [
       "4"
      ]
     },
     "execution_count": 7,
     "metadata": {},
     "output_type": "execute_result"
    }
   ],
   "source": [
    "train_labels[9]"
   ]
  },
  {
   "cell_type": "markdown",
   "metadata": {},
   "source": [
    "# task 3: what is the shape of train_input 1?"
   ]
  },
  {
   "cell_type": "code",
   "execution_count": 8,
   "metadata": {},
   "outputs": [
    {
     "data": {
      "text/plain": [
       "(28, 28)"
      ]
     },
     "execution_count": 8,
     "metadata": {},
     "output_type": "execute_result"
    }
   ],
   "source": [
    "train_input[1].shape"
   ]
  },
  {
   "cell_type": "markdown",
   "metadata": {},
   "source": [
    "# task 4: plot train_input 1"
   ]
  },
  {
   "cell_type": "code",
   "execution_count": 27,
   "metadata": {},
   "outputs": [
    {
     "data": {
      "text/plain": [
       "<matplotlib.image.AxesImage at 0x7f30100c5b38>"
      ]
     },
     "execution_count": 27,
     "metadata": {},
     "output_type": "execute_result"
    },
    {
     "data": {
      "image/png": "[encoded data removed]",
      "text/plain": [
       "<Figure size 432x288 with 1 Axes>"
      ]
     },
     "metadata": {
      "needs_background": "light"
     },
     "output_type": "display_data"
    }
   ],
   "source": [
    "# Display an image\n",
    "pl.imshow(train_input[1], cmap='viridis')"
   ]
  },
  {
   "cell_type": "markdown",
   "metadata": {},
   "source": [
    "#### Fig. 1: 2D image of 1st element in train_input"
   ]
  },
  {
   "cell_type": "markdown",
   "metadata": {
    "colab_type": "text",
    "id": "lUKQ0gxv-RyV"
   },
   "source": [
    "# 3 Create the model\n",
    "\n",
    "# task 5: create a model with 3 layers: input layer and 2 fully connected layers with 128 and 10 neurons respectively"
   ]
  },
  {
   "cell_type": "code",
   "execution_count": 10,
   "metadata": {
    "colab": {},
    "colab_type": "code",
    "id": "sRvt_FxxJzsS"
   },
   "outputs": [
    {
     "name": "stdout",
     "output_type": "stream",
     "text": [
      "WARNING:tensorflow:From /home/umer/anaconda3/lib/python3.7/site-packages/tensorflow/python/ops/init_ops.py:1251: calling VarianceScaling.__init__ (from tensorflow.python.ops.init_ops) with dtype is deprecated and will be removed in a future version.\n",
      "Instructions for updating:\n",
      "Call initializer instance with the dtype argument instead of passing it to the constructor\n"
     ]
    }
   ],
   "source": [
    "Nhl = 128\n",
    "Nhl2 = 10\n",
    "model = keras.Sequential([keras.layers.Flatten(data_format='channels_first'),\n",
    "                         keras.layers.Dense(Nhl, activation=tf.nn.sigmoid), \n",
    "                          keras.layers.Dense(Nhl2,activation=tf.nn.softmax) ])"
   ]
  },
  {
   "cell_type": "markdown",
   "metadata": {
    "colab_type": "text",
    "id": "kqhAMKMpohZy"
   },
   "source": [
    "# 4 set the hyperparameters\n",
    "# task 6: set a learning rate of 0.01, a loss function \"sparse_categorical_crossentropy\" and set the metric to \"accuracy\n",
    "                                              "
   ]
  },
  {
   "cell_type": "code",
   "execution_count": 20,
   "metadata": {
    "colab": {},
    "colab_type": "code",
    "id": "zPhqtfuyneAl"
   },
   "outputs": [],
   "source": [
    "model.compile?"
   ]
  },
  {
   "cell_type": "code",
   "execution_count": 11,
   "metadata": {},
   "outputs": [],
   "source": [
    "learning_rate = 0.01\n",
    "model.compile(optimizer = keras.optimizers.SGD(learning_rate),\n",
    "    loss = keras.losses.sparse_categorical_crossentropy,\n",
    "    metrics = ['accuracy'],\n",
    "    loss_weights=None,\n",
    "    sample_weight_mode=None,\n",
    "    weighted_metrics=None,\n",
    "    target_tensors=None,\n",
    "    distribute=None,)\n"
   ]
  },
  {
   "cell_type": "code",
   "execution_count": 15,
   "metadata": {},
   "outputs": [],
   "source": [
    "train_input_2 = train_input / 256.\n",
    "test_input_2 = test_input / 256."
   ]
  },
  {
   "cell_type": "code",
   "execution_count": 17,
   "metadata": {},
   "outputs": [
    {
     "name": "stdout",
     "output_type": "stream",
     "text": [
      "Epoch 1/5\n",
      "60000/60000 [==============================] - 3s 51us/sample - loss: 0.3789 - acc: 0.8967\n",
      "Epoch 2/5\n",
      "60000/60000 [==============================] - 3s 52us/sample - loss: 0.3600 - acc: 0.9006\n",
      "Epoch 3/5\n",
      "60000/60000 [==============================] - 3s 52us/sample - loss: 0.3458 - acc: 0.9032\n",
      "Epoch 4/5\n",
      "60000/60000 [==============================] - 3s 52us/sample - loss: 0.3344 - acc: 0.9057\n",
      "Epoch 5/5\n",
      "60000/60000 [==============================] - 3s 52us/sample - loss: 0.3248 - acc: 0.9077\n"
     ]
    },
    {
     "data": {
      "text/plain": [
       "<tensorflow.python.keras.callbacks.History at 0x7f3013335d30>"
      ]
     },
     "execution_count": 17,
     "metadata": {},
     "output_type": "execute_result"
    }
   ],
   "source": [
    "model.fit(train_input_2, train_labels, epochs=5)"
   ]
  },
  {
   "cell_type": "markdown",
   "metadata": {
    "colab_type": "text",
    "id": "cm-dUAzQ_Lq3"
   },
   "source": [
    "# Task 7: test the model"
   ]
  },
  {
   "cell_type": "code",
   "execution_count": 18,
   "metadata": {
    "colab": {
     "base_uri": "https://localhost:8080/",
     "height": 40
    },
    "colab_type": "code",
    "id": "zxecyD5oqGTj",
    "outputId": "6438f8b1-7b94-4d0b-e146-82e1381a7fe0"
   },
   "outputs": [
    {
     "name": "stdout",
     "output_type": "stream",
     "text": [
      "10000/10000 [==============================] - 0s 34us/sample - loss: 0.3075 - acc: 0.9145\n"
     ]
    }
   ],
   "source": [
    "test_loss, test_acc = model.evaluate(test_input_2, test_labels)"
   ]
  },
  {
   "cell_type": "markdown",
   "metadata": {},
   "source": [
    "#### The model is not overfitting since the accuracy score on test set is same as training set."
   ]
  },
  {
   "cell_type": "markdown",
   "metadata": {
    "colab_type": "text",
    "id": "vACTcept_Xx8"
   },
   "source": [
    "# task 8 plot the 10'th test observation and its label and prediction"
   ]
  },
  {
   "cell_type": "code",
   "execution_count": 28,
   "metadata": {},
   "outputs": [
    {
     "data": {
      "text/plain": [
       "<matplotlib.image.AxesImage at 0x7f30100a29b0>"
      ]
     },
     "execution_count": 28,
     "metadata": {},
     "output_type": "execute_result"
    },
    {
     "data": {
      "image/png": "[encoded data removed]",
      "text/plain": [
       "<Figure size 432x288 with 1 Axes>"
      ]
     },
     "metadata": {
      "needs_background": "light"
     },
     "output_type": "display_data"
    }
   ],
   "source": [
    "pl.imshow(test_input_2[9], cmap='viridis')"
   ]
  },
  {
   "cell_type": "markdown",
   "metadata": {},
   "source": [
    "#### Fig. 2: 10'th test observation"
   ]
  },
  {
   "cell_type": "code",
   "execution_count": 25,
   "metadata": {
    "colab": {},
    "colab_type": "code",
    "id": "R8gUnQaGARqW"
   },
   "outputs": [
    {
     "data": {
      "text/plain": [
       "9"
      ]
     },
     "execution_count": 25,
     "metadata": {},
     "output_type": "execute_result"
    }
   ],
   "source": [
    "pred = model.predict(test_input_2)\n",
    "# np.argmax(): Returns the indices of the maximum values along an axis\n",
    "pred = np.argmax(model.predict(test_input_2), axis = 1)"
   ]
  },
  {
   "cell_type": "code",
   "execution_count": 26,
   "metadata": {},
   "outputs": [
    {
     "data": {
      "text/plain": [
       "(9, 9)"
      ]
     },
     "execution_count": 26,
     "metadata": {},
     "output_type": "execute_result"
    }
   ],
   "source": [
    "test_labels[9], pred[9]"
   ]
  },
  {
   "cell_type": "markdown",
   "metadata": {},
   "source": [
    "### Prediction is same as the label"
   ]
  },
  {
   "cell_type": "markdown",
   "metadata": {
    "colab_type": "text",
    "id": "2mzWVo9yJhY9"
   },
   "source": [
    "# task 9: find the first wrong prediction in the test set"
   ]
  },
  {
   "cell_type": "code",
   "execution_count": 32,
   "metadata": {
    "colab": {},
    "colab_type": "code",
    "id": "cruV1n7CJaBI"
   },
   "outputs": [
    {
     "data": {
      "text/plain": [
       "(array([7, 2, 1, ..., 4, 5, 6], dtype=uint8), array([7, 2, 1, ..., 4, 5, 6]))"
      ]
     },
     "execution_count": 32,
     "metadata": {},
     "output_type": "execute_result"
    }
   ],
   "source": [
    "test_labels, pred"
   ]
  },
  {
   "cell_type": "code",
   "execution_count": 40,
   "metadata": {},
   "outputs": [
    {
     "name": "stdout",
     "output_type": "stream",
     "text": [
      "8\n",
      "33\n",
      "46\n",
      "62\n",
      "63\n",
      "66\n",
      "77\n",
      "92\n",
      "124\n",
      "149\n",
      "193\n",
      "195\n",
      "217\n",
      "233\n",
      "241\n",
      "245\n",
      "247\n",
      "259\n",
      "290\n",
      "300\n",
      "307\n",
      "313\n",
      "318\n",
      "320\n",
      "321\n",
      "340\n",
      "341\n",
      "349\n",
      "352\n",
      "362\n",
      "381\n",
      "403\n",
      "412\n",
      "444\n",
      "445\n",
      "448\n",
      "449\n",
      "457\n",
      "468\n",
      "478\n",
      "479\n",
      "495\n",
      "502\n",
      "507\n",
      "511\n",
      "524\n",
      "530\n",
      "531\n",
      "536\n",
      "543\n",
      "551\n",
      "553\n",
      "565\n",
      "569\n",
      "578\n",
      "582\n",
      "591\n",
      "606\n",
      "610\n",
      "613\n",
      "619\n",
      "627\n",
      "628\n",
      "629\n",
      "658\n",
      "659\n",
      "684\n",
      "691\n",
      "707\n",
      "717\n",
      "720\n",
      "728\n",
      "738\n",
      "740\n",
      "741\n",
      "760\n",
      "781\n",
      "791\n",
      "800\n",
      "839\n",
      "844\n",
      "857\n",
      "881\n",
      "882\n",
      "898\n",
      "924\n",
      "938\n",
      "939\n",
      "944\n",
      "947\n",
      "950\n",
      "956\n",
      "959\n",
      "965\n",
      "975\n",
      "982\n",
      "999\n",
      "1003\n",
      "1012\n",
      "1014\n",
      "1032\n",
      "1039\n",
      "1044\n",
      "1050\n",
      "1062\n",
      "1068\n",
      "1082\n",
      "1096\n",
      "1101\n",
      "1107\n",
      "1112\n",
      "1114\n",
      "1119\n",
      "1173\n",
      "1181\n",
      "1191\n",
      "1192\n",
      "1194\n",
      "1198\n",
      "1200\n",
      "1202\n",
      "1204\n",
      "1206\n",
      "1217\n",
      "1224\n",
      "1226\n",
      "1228\n",
      "1232\n",
      "1233\n",
      "1234\n",
      "1242\n",
      "1247\n",
      "1248\n",
      "1251\n",
      "1256\n",
      "1260\n",
      "1270\n",
      "1283\n",
      "1289\n",
      "1291\n",
      "1299\n",
      "1315\n",
      "1319\n",
      "1326\n",
      "1328\n",
      "1337\n",
      "1345\n",
      "1347\n",
      "1375\n",
      "1391\n",
      "1393\n",
      "1409\n",
      "1410\n",
      "1429\n",
      "1433\n",
      "1440\n",
      "1444\n",
      "1453\n",
      "1465\n",
      "1466\n",
      "1467\n",
      "1500\n",
      "1514\n",
      "1522\n",
      "1525\n",
      "1527\n",
      "1530\n",
      "1549\n",
      "1553\n",
      "1559\n",
      "1581\n",
      "1587\n",
      "1609\n",
      "1626\n",
      "1634\n",
      "1640\n",
      "1678\n",
      "1681\n",
      "1695\n",
      "1696\n",
      "1709\n",
      "1717\n",
      "1718\n",
      "1722\n",
      "1727\n",
      "1751\n",
      "1754\n",
      "1759\n",
      "1765\n",
      "1772\n",
      "1774\n",
      "1782\n",
      "1790\n",
      "1800\n",
      "1813\n",
      "1839\n",
      "1850\n",
      "1857\n",
      "1865\n",
      "1868\n",
      "1878\n",
      "1899\n",
      "1901\n",
      "1903\n",
      "1917\n",
      "1926\n",
      "1930\n",
      "1938\n",
      "1942\n",
      "1952\n",
      "1955\n",
      "1956\n",
      "1968\n",
      "1970\n",
      "1973\n",
      "1981\n",
      "1982\n",
      "1984\n",
      "2016\n",
      "2024\n",
      "2035\n",
      "2037\n",
      "2040\n",
      "2043\n",
      "2044\n",
      "2053\n",
      "2068\n",
      "2070\n",
      "2093\n",
      "2098\n",
      "2099\n",
      "2109\n",
      "2110\n",
      "2115\n",
      "2118\n",
      "2129\n",
      "2130\n",
      "2135\n",
      "2138\n",
      "2148\n",
      "2152\n",
      "2182\n",
      "2185\n",
      "2186\n",
      "2189\n",
      "2192\n",
      "2208\n",
      "2215\n",
      "2224\n",
      "2266\n",
      "2272\n",
      "2293\n",
      "2299\n",
      "2305\n",
      "2312\n",
      "2320\n",
      "2325\n",
      "2351\n",
      "2362\n",
      "2369\n",
      "2371\n",
      "2378\n",
      "2380\n",
      "2381\n",
      "2387\n",
      "2393\n",
      "2394\n",
      "2395\n",
      "2404\n",
      "2406\n",
      "2408\n",
      "2422\n",
      "2425\n",
      "2433\n",
      "2460\n",
      "2462\n",
      "2473\n",
      "2488\n",
      "2526\n",
      "2534\n",
      "2542\n",
      "2545\n",
      "2556\n",
      "2559\n",
      "2560\n",
      "2573\n",
      "2574\n",
      "2578\n",
      "2582\n",
      "2586\n",
      "2589\n",
      "2598\n",
      "2607\n",
      "2610\n",
      "2631\n",
      "2635\n",
      "2648\n",
      "2654\n",
      "2670\n",
      "2695\n",
      "2705\n",
      "2713\n",
      "2730\n",
      "2740\n",
      "2751\n",
      "2756\n",
      "2770\n",
      "2771\n",
      "2780\n",
      "2810\n",
      "2832\n",
      "2836\n",
      "2850\n",
      "2851\n",
      "2866\n",
      "2896\n",
      "2905\n",
      "2906\n",
      "2907\n",
      "2914\n",
      "2925\n",
      "2927\n",
      "2945\n",
      "2953\n",
      "2970\n",
      "2990\n",
      "2995\n",
      "3005\n",
      "3060\n",
      "3073\n",
      "3110\n",
      "3114\n",
      "3117\n",
      "3130\n",
      "3133\n",
      "3136\n",
      "3145\n",
      "3157\n",
      "3160\n",
      "3166\n",
      "3167\n",
      "3183\n",
      "3189\n",
      "3193\n",
      "3206\n",
      "3225\n",
      "3240\n",
      "3254\n",
      "3269\n",
      "3284\n",
      "3288\n",
      "3289\n",
      "3302\n",
      "3316\n",
      "3329\n",
      "3330\n",
      "3333\n",
      "3347\n",
      "3369\n",
      "3381\n",
      "3394\n",
      "3414\n",
      "3422\n",
      "3436\n",
      "3437\n",
      "3450\n",
      "3468\n",
      "3475\n",
      "3490\n",
      "3503\n",
      "3520\n",
      "3525\n",
      "3549\n",
      "3558\n",
      "3565\n",
      "3567\n",
      "3573\n",
      "3578\n",
      "3597\n",
      "3598\n",
      "3604\n",
      "3629\n",
      "3645\n",
      "3662\n",
      "3664\n",
      "3681\n",
      "3688\n",
      "3716\n",
      "3718\n",
      "3725\n",
      "3726\n",
      "3727\n",
      "3730\n",
      "3732\n",
      "3751\n",
      "3757\n",
      "3767\n",
      "3769\n",
      "3776\n",
      "3780\n",
      "3796\n",
      "3801\n",
      "3806\n",
      "3808\n",
      "3811\n",
      "3817\n",
      "3818\n",
      "3820\n",
      "3821\n",
      "3833\n",
      "3836\n",
      "3838\n",
      "3839\n",
      "3846\n",
      "3848\n",
      "3850\n",
      "3853\n",
      "3855\n",
      "3862\n",
      "3869\n",
      "3876\n",
      "3884\n",
      "3893\n",
      "3902\n",
      "3906\n",
      "3926\n",
      "3941\n",
      "3943\n",
      "3946\n",
      "3951\n",
      "3954\n",
      "3962\n",
      "3976\n",
      "3984\n",
      "3985\n",
      "3986\n",
      "4000\n",
      "4017\n",
      "4044\n",
      "4063\n",
      "4065\n",
      "4068\n",
      "4072\n",
      "4075\n",
      "4078\n",
      "4093\n",
      "4111\n",
      "4131\n",
      "4140\n",
      "4145\n",
      "4152\n",
      "4154\n",
      "4159\n",
      "4163\n",
      "4173\n",
      "4176\n",
      "4199\n",
      "4201\n",
      "4205\n",
      "4211\n",
      "4212\n",
      "4224\n",
      "4238\n",
      "4239\n",
      "4248\n",
      "4254\n",
      "4255\n",
      "4271\n",
      "4284\n",
      "4289\n",
      "4297\n",
      "4300\n",
      "4302\n",
      "4306\n",
      "4313\n",
      "4315\n",
      "4317\n",
      "4330\n",
      "4341\n",
      "4344\n",
      "4355\n",
      "4356\n",
      "4359\n",
      "4369\n",
      "4374\n",
      "4380\n",
      "4405\n",
      "4423\n",
      "4425\n",
      "4427\n",
      "4433\n",
      "4435\n",
      "4449\n",
      "4451\n",
      "4454\n",
      "4477\n",
      "4497\n",
      "4498\n",
      "4500\n",
      "4521\n",
      "4523\n",
      "4540\n",
      "4571\n",
      "4575\n",
      "4578\n",
      "4583\n",
      "4601\n",
      "4615\n",
      "4630\n",
      "4633\n",
      "4639\n",
      "4640\n",
      "4671\n",
      "4690\n",
      "4722\n",
      "4724\n",
      "4731\n",
      "4735\n",
      "4740\n",
      "4751\n",
      "4761\n",
      "4785\n",
      "4807\n",
      "4808\n",
      "4814\n",
      "4823\n",
      "4829\n",
      "4837\n",
      "4838\n",
      "4852\n",
      "4863\n",
      "4874\n",
      "4876\n",
      "4879\n",
      "4880\n",
      "4886\n",
      "4890\n",
      "4896\n",
      "4910\n",
      "4915\n",
      "4939\n",
      "4950\n",
      "4952\n",
      "4954\n",
      "4956\n",
      "4966\n",
      "4978\n",
      "4990\n",
      "5001\n",
      "5009\n",
      "5015\n",
      "5038\n",
      "5046\n",
      "5054\n",
      "5065\n",
      "5067\n",
      "5068\n",
      "5078\n",
      "5100\n",
      "5135\n",
      "5140\n",
      "5143\n",
      "5176\n",
      "5210\n",
      "5217\n",
      "5246\n",
      "5288\n",
      "5298\n",
      "5299\n",
      "5331\n",
      "5457\n",
      "5523\n",
      "5562\n",
      "5600\n",
      "5601\n",
      "5611\n",
      "5617\n",
      "5620\n",
      "5634\n",
      "5642\n",
      "5649\n",
      "5662\n",
      "5677\n",
      "5678\n",
      "5688\n",
      "5714\n",
      "5720\n",
      "5734\n",
      "5749\n",
      "5821\n",
      "5835\n",
      "5842\n",
      "5852\n",
      "5862\n",
      "5867\n",
      "5874\n",
      "5887\n",
      "5888\n",
      "5891\n",
      "5912\n",
      "5913\n",
      "5922\n",
      "5936\n",
      "5937\n",
      "5955\n",
      "5972\n",
      "5973\n",
      "5985\n",
      "6023\n",
      "6035\n",
      "6037\n",
      "6042\n",
      "6043\n",
      "6059\n",
      "6065\n",
      "6071\n",
      "6081\n",
      "6091\n",
      "6109\n",
      "6112\n",
      "6124\n",
      "6126\n",
      "6157\n",
      "6166\n",
      "6168\n",
      "6172\n",
      "6173\n",
      "6304\n",
      "6324\n",
      "6347\n",
      "6385\n",
      "6391\n",
      "6421\n",
      "6425\n",
      "6426\n",
      "6432\n",
      "6494\n",
      "6501\n",
      "6505\n",
      "6517\n",
      "6555\n",
      "6560\n",
      "6564\n",
      "6568\n",
      "6569\n",
      "6571\n",
      "6574\n",
      "6577\n",
      "6578\n",
      "6597\n",
      "6598\n",
      "6603\n",
      "6608\n",
      "6613\n",
      "6625\n",
      "6632\n",
      "6641\n",
      "6642\n",
      "6651\n",
      "6688\n",
      "6694\n",
      "6706\n",
      "6721\n",
      "6740\n",
      "6744\n",
      "6746\n",
      "6768\n",
      "6769\n",
      "6775\n",
      "6784\n",
      "6785\n",
      "6793\n",
      "6796\n",
      "6817\n",
      "6847\n",
      "6872\n",
      "6906\n",
      "6919\n",
      "6926\n",
      "7035\n",
      "7043\n",
      "7107\n",
      "7121\n",
      "7130\n",
      "7182\n",
      "7212\n",
      "7216\n",
      "7233\n",
      "7235\n",
      "7241\n",
      "7338\n",
      "7394\n",
      "7432\n",
      "7434\n",
      "7436\n",
      "7451\n",
      "7459\n",
      "7473\n",
      "7492\n",
      "7494\n",
      "7498\n",
      "7542\n",
      "7580\n",
      "7603\n",
      "7610\n",
      "7637\n",
      "7641\n",
      "7724\n",
      "7797\n",
      "7800\n",
      "7812\n",
      "7821\n",
      "7826\n",
      "7839\n",
      "7842\n",
      "7847\n",
      "7849\n",
      "7850\n",
      "7851\n",
      "7856\n",
      "7857\n",
      "7858\n",
      "7859\n",
      "7860\n",
      "7870\n",
      "7876\n",
      "7886\n",
      "7888\n",
      "7899\n",
      "7900\n",
      "7905\n",
      "7917\n",
      "7918\n",
      "7920\n",
      "7928\n",
      "7945\n",
      "7990\n",
      "7999\n",
      "8020\n",
      "8062\n",
      "8072\n",
      "8081\n",
      "8091\n",
      "8094\n",
      "8095\n",
      "8165\n",
      "8183\n",
      "8196\n",
      "8198\n",
      "8246\n",
      "8272\n",
      "8277\n",
      "8279\n",
      "8294\n",
      "8308\n",
      "8332\n",
      "8339\n",
      "8353\n",
      "8408\n",
      "8410\n",
      "8426\n",
      "8444\n",
      "8456\n",
      "8493\n",
      "8520\n",
      "8522\n",
      "8523\n",
      "8553\n",
      "8639\n",
      "9007\n",
      "9009\n",
      "9010\n",
      "9013\n",
      "9015\n",
      "9016\n",
      "9017\n",
      "9019\n",
      "9024\n",
      "9026\n",
      "9036\n",
      "9045\n",
      "9071\n",
      "9141\n",
      "9209\n",
      "9211\n",
      "9214\n",
      "9245\n",
      "9280\n",
      "9316\n",
      "9317\n",
      "9426\n",
      "9427\n",
      "9446\n",
      "9456\n",
      "9465\n",
      "9482\n",
      "9534\n",
      "9544\n",
      "9564\n",
      "9587\n",
      "9595\n",
      "9614\n",
      "9624\n",
      "9634\n",
      "9642\n",
      "9643\n",
      "9679\n",
      "9680\n",
      "9698\n",
      "9700\n",
      "9716\n",
      "9719\n",
      "9726\n",
      "9729\n",
      "9732\n",
      "9733\n",
      "9735\n",
      "9740\n",
      "9741\n",
      "9744\n",
      "9745\n",
      "9749\n",
      "9751\n",
      "9752\n",
      "9768\n",
      "9770\n",
      "9777\n",
      "9779\n",
      "9780\n",
      "9792\n",
      "9808\n",
      "9811\n",
      "9832\n",
      "9839\n",
      "9855\n",
      "9856\n",
      "9858\n",
      "9867\n",
      "9874\n",
      "9879\n",
      "9883\n",
      "9888\n",
      "9890\n",
      "9892\n",
      "9893\n",
      "9905\n",
      "9925\n",
      "9940\n",
      "9941\n",
      "9944\n",
      "9970\n",
      "9975\n",
      "9980\n",
      "9982\n",
      "9986\n"
     ]
    },
    {
     "data": {
      "text/plain": [
       "9999"
      ]
     },
     "execution_count": 40,
     "metadata": {},
     "output_type": "execute_result"
    }
   ],
   "source": [
    "for i in range(len(test_labels)):\n",
    "    if test_labels[i] != pred[i]:\n",
    "        print(i)\n",
    "i"
   ]
  },
  {
   "cell_type": "markdown",
   "metadata": {},
   "source": [
    "### First wrong prediction has index 8"
   ]
  },
  {
   "cell_type": "code",
   "execution_count": 41,
   "metadata": {},
   "outputs": [
    {
     "data": {
      "text/plain": [
       "(5, 6)"
      ]
     },
     "execution_count": 41,
     "metadata": {},
     "output_type": "execute_result"
    }
   ],
   "source": [
    "test_labels[8], pred[8]"
   ]
  },
  {
   "cell_type": "code",
   "execution_count": 42,
   "metadata": {},
   "outputs": [
    {
     "data": {
      "text/plain": [
       "<matplotlib.image.AxesImage at 0x7f3008270208>"
      ]
     },
     "execution_count": 42,
     "metadata": {},
     "output_type": "execute_result"
    },
    {
     "data": {
      "image/png": "[encoded data removed]",
      "text/plain": [
       "<Figure size 432x288 with 1 Axes>"
      ]
     },
     "metadata": {
      "needs_background": "light"
     },
     "output_type": "display_data"
    }
   ],
   "source": [
    "pl.imshow(test_input_2[8], cmap='viridis')"
   ]
  },
  {
   "cell_type": "markdown",
   "metadata": {},
   "source": [
    "#### Fig. 3: First wrong prediction is 5 labeled as 6, this is because it looks like a 6"
   ]
  },
  {
   "cell_type": "markdown",
   "metadata": {
    "colab_type": "text",
    "id": "70vRSuntyBRS"
   },
   "source": [
    "task 10: create a more complex model by adding 3 fully connected layers (you choose the size). Retrain and test the accuracy of prediction and discuss if the model is overfitting"
   ]
  },
  {
   "cell_type": "code",
   "execution_count": 44,
   "metadata": {
    "colab": {},
    "colab_type": "code",
    "id": "-SUUN-6dyA0y"
   },
   "outputs": [],
   "source": [
    "Nhl = 128\n",
    "Nhl2 = 100\n",
    "Nhl3 = 70\n",
    "Nhl4 = 40\n",
    "Nhl5 = 10\n",
    "model_2 = keras.Sequential([keras.layers.Flatten(data_format='channels_first'),\n",
    "                         keras.layers.Dense(Nhl, activation=tf.nn.sigmoid),\n",
    "                          keras.layers.Dense(Nhl2, activation=tf.nn.sigmoid),\n",
    "                          keras.layers.Dense(Nhl3, activation=tf.nn.sigmoid),\n",
    "                          keras.layers.Dense(Nhl4, activation=tf.nn.sigmoid),\n",
    "                          keras.layers.Dense(Nhl5,activation=tf.nn.softmax) ])"
   ]
  },
  {
   "cell_type": "code",
   "execution_count": 45,
   "metadata": {},
   "outputs": [],
   "source": [
    "learning_rate = 0.1\n",
    "model_2.compile(optimizer = keras.optimizers.SGD(learning_rate),\n",
    "    loss = keras.losses.sparse_categorical_crossentropy,\n",
    "    metrics = ['accuracy'],\n",
    "    loss_weights=None,\n",
    "    sample_weight_mode=None,\n",
    "    weighted_metrics=None,\n",
    "    target_tensors=None,\n",
    "    distribute=None,)\n"
   ]
  },
  {
   "cell_type": "code",
   "execution_count": 46,
   "metadata": {
    "scrolled": true
   },
   "outputs": [
    {
     "name": "stdout",
     "output_type": "stream",
     "text": [
      "Epoch 1/5\n",
      "60000/60000 [==============================] - 4s 72us/sample - loss: 2.3013 - acc: 0.1143\n",
      "Epoch 2/5\n",
      "60000/60000 [==============================] - 4s 70us/sample - loss: 1.5524 - acc: 0.4262\n",
      "Epoch 3/5\n",
      "60000/60000 [==============================] - 4s 70us/sample - loss: 0.7434 - acc: 0.7631\n",
      "Epoch 4/5\n",
      "60000/60000 [==============================] - 4s 70us/sample - loss: 0.4624 - acc: 0.8706\n",
      "Epoch 5/5\n",
      "60000/60000 [==============================] - 5s 75us/sample - loss: 0.3462 - acc: 0.9032\n"
     ]
    },
    {
     "data": {
      "text/plain": [
       "<tensorflow.python.keras.callbacks.History at 0x7f300829a198>"
      ]
     },
     "execution_count": 46,
     "metadata": {},
     "output_type": "execute_result"
    }
   ],
   "source": [
    "model_2.fit(train_input_2, train_labels, epochs=5)"
   ]
  },
  {
   "cell_type": "code",
   "execution_count": 47,
   "metadata": {},
   "outputs": [
    {
     "name": "stdout",
     "output_type": "stream",
     "text": [
      "10000/10000 [==============================] - 0s 48us/sample - loss: 0.3298 - acc: 0.9036\n"
     ]
    }
   ],
   "source": [
    "test_loss, test_acc = model_2.evaluate(test_input_2, test_labels)"
   ]
  },
  {
   "cell_type": "markdown",
   "metadata": {},
   "source": [
    "#### The model is not overfitting since the accuracy score on test set is same as training set."
   ]
  },
  {
   "cell_type": "markdown",
   "metadata": {},
   "source": [
    "<span style=\"color:red\">**-2 pts: more layers require more epoachs to converge, 5 is not enough, you should make a epoach vs test accuracy plot to observe a overfitting**</span>"
   ]
  },
  {
   "cell_type": "code",
   "execution_count": null,
   "metadata": {},
   "outputs": [],
   "source": []
  }
 ],
 "metadata": {
  "colab": {
   "collapsed_sections": [],
   "include_colab_link": true,
   "name": "lab11_tensorflow",
   "provenance": []
  },
  "kernelspec": {
   "display_name": "Python 3",
   "language": "python",
   "name": "python3"
  },
  "language_info": {
   "codemirror_mode": {
    "name": "ipython",
    "version": 3
   },
   "file_extension": ".py",
   "mimetype": "text/x-python",
   "name": "python",
   "nbconvert_exporter": "python",
   "pygments_lexer": "ipython3",
   "version": "3.6.9"
  }
 },
 "nbformat": 4,
 "nbformat_minor": 1
}
